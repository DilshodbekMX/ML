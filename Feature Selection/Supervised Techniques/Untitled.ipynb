{
 "cells": [
  {
   "cell_type": "code",
   "execution_count": 4,
   "id": "9bbf7164-045c-4385-8409-ecb4171f42a5",
   "metadata": {},
   "outputs": [],
   "source": [
    "import pandas as pd\n",
    "import numpy as np\n",
    "import os\n",
    "import matplotlib.pyplot as plt\n",
    "from sklearn.model_selection import train_test_split"
   ]
  },
  {
   "cell_type": "code",
   "execution_count": 12,
   "id": "9afd04d9-3d8f-4410-88d0-cb890d51d910",
   "metadata": {},
   "outputs": [
    {
     "name": "stdout",
     "output_type": "stream",
     "text": [
      "C:/Users/DilshodbekMX/PycharmProjects/Cyber/Data\\BackwardSelection.csv\n",
      "C:/Users/DilshodbekMX/PycharmProjects/Cyber/Data\\ChiSquaredTest.csv\n",
      "C:/Users/DilshodbekMX/PycharmProjects/Cyber/Data\\FishersScore.csv\n",
      "C:/Users/DilshodbekMX/PycharmProjects/Cyber/Data\\ForwardSelection.csv\n",
      "C:/Users/DilshodbekMX/PycharmProjects/Cyber/Data\\InformationGain.csv\n",
      "C:/Users/DilshodbekMX/PycharmProjects/Cyber/Data\\LASSOSelection.csv\n",
      "C:/Users/DilshodbekMX/PycharmProjects/Cyber/Data\\MeanAbsoluteDifference.csv\n",
      "C:/Users/DilshodbekMX/PycharmProjects/Cyber/Data\\MinMaxScaling.csv\n",
      "C:/Users/DilshodbekMX/PycharmProjects/Cyber/Data\\MissingValueRatio.csv\n",
      "C:/Users/DilshodbekMX/PycharmProjects/Cyber/Data\\NormalizerScaling.csv\n",
      "C:/Users/DilshodbekMX/PycharmProjects/Cyber/Data\\PearsonCorrelation.csv\n",
      "C:/Users/DilshodbekMX/PycharmProjects/Cyber/Data\\RandomForestImportance.csv\n",
      "C:/Users/DilshodbekMX/PycharmProjects/Cyber/Data\\RecursiveFeatureElimination.csv\n",
      "C:/Users/DilshodbekMX/PycharmProjects/Cyber/Data\\RidgeSelection.csv\n",
      "C:/Users/DilshodbekMX/PycharmProjects/Cyber/Data\\SpearmanCorrelation.csv\n",
      "C:/Users/DilshodbekMX/PycharmProjects/Cyber/Data\\StandardScaling.csv\n",
      "C:/Users/DilshodbekMX/PycharmProjects/Cyber/Data\\VarianceThreshold.csv\n"
     ]
    }
   ],
   "source": [
    "data_path = \"C:/Users/DilshodbekMX/PycharmProjects/Cyber/Data\"\n",
    "data_name = os.listdir(data_path)\n",
    "for data in data_name:\n",
    "    print(os.path.join(data_path,data))\n"
   ]
  },
  {
   "cell_type": "code",
   "execution_count": null,
   "id": "2159bf66-8495-449e-938a-0be224b5a140",
   "metadata": {},
   "outputs": [],
   "source": []
  }
 ],
 "metadata": {
  "kernelspec": {
   "display_name": "Python 3 (ipykernel)",
   "language": "python",
   "name": "python3"
  },
  "language_info": {
   "codemirror_mode": {
    "name": "ipython",
    "version": 3
   },
   "file_extension": ".py",
   "mimetype": "text/x-python",
   "name": "python",
   "nbconvert_exporter": "python",
   "pygments_lexer": "ipython3",
   "version": "3.12.3"
  }
 },
 "nbformat": 4,
 "nbformat_minor": 5
}
